{
  "nbformat": 4,
  "nbformat_minor": 0,
  "metadata": {
    "colab": {
      "provenance": [],
      "include_colab_link": true
    },
    "kernelspec": {
      "name": "python3",
      "display_name": "Python 3"
    },
    "language_info": {
      "name": "python"
    }
  },
  "cells": [
    {
      "cell_type": "markdown",
      "metadata": {
        "id": "view-in-github",
        "colab_type": "text"
      },
      "source": [
        "<a href=\"https://colab.research.google.com/github/chetools/CVE2005/blob/main/CVE2005_Syllabus_Spring2024.ipynb\" target=\"_parent\"><img src=\"https://colab.research.google.com/assets/colab-badge.svg\" alt=\"Open In Colab\"/></a>"
      ]
    },
    {
      "cell_type": "markdown",
      "metadata": {
        "id": "PiBxWvul6EEV"
      },
      "source": [
        "**CVE 2005 - Fluid Mechanics**\n",
        "\n",
        "Instructor: Carlos Co<br>\n",
        "email: carlos.co@uc.edu"
      ]
    },
    {
      "cell_type": "markdown",
      "metadata": {
        "id": "dQGhiM_o6477"
      },
      "source": [
        "##Prerequisites\n",
        "- PHYS2001 College Physics (C- or higher)\n",
        "- MATH2073 Ordinary Differential Equations (C- or higher)\n",
        "\n",
        "\n",
        "##Topics\n",
        "- Fluids vs Solids, Viscosity, Newtonian/Non-Newtonian, Pressure\n",
        "- Fluid Statics, Pressure-Depth Relation, Forces on Surfaces/Vessels/Piping, - Buoyancy\n",
        "- Material and Energy Balance, Velocity - Average/Distribution, Internal Energy/KE/PE, Injection Work\n",
        "- Bernoulli's Equation\n",
        "- Friction Heating, Diffusers, Low-Velocity Gas Flow, Flow Measurement\n",
        "- Fluid Friction in Steady 1D Flow\n",
        "- Reynolds Experiment, Laminar/Turbulent Flows, Pipe Flow Calculations, Flow in Piping Networks\n",
        "- Drag/External Flow\n",
        "- Dimensional Analysis\n",
        "- Momentum Balance\n",
        "- Forces in Pipes, Sudden Expansion\n",
        "- Continuity/Navier-Stokes"
      ]
    },
    {
      "cell_type": "markdown",
      "metadata": {
        "id": "AMk2GUql-iaR"
      },
      "source": [
        "##Computational Emphasis\n",
        "\n",
        "WHAT IF?  Is a question an engineer should never stop asking.  Any calculation worth doing once in a real engineering situation, is inevitably repeated over and over again for different conditions.  Coding to automate calculations is therefore one of the most valuable engineering skills.  We will use Python intensively in this class using Google's Colaboratory Jupyter Notebook environment.  It is highly recommended for you to go through the following free online texts to brush up on your Python skills BEFORE our first class:\n",
        "\n",
        "https://jakevdp.github.io/WhirlwindTourOfPython/\n",
        "\n",
        "https://jakevdp.github.io/PythonDataScienceHandbook/\n",
        "\n",
        "https://colab.research.google.com/notebooks/intro.ipynb\n",
        "\n",
        "https://plotly.com/python/plotly-fundamentals/\n",
        "\n",
        "https://numpy.org/doc/stable/user/quickstart.html"
      ]
    },
    {
      "cell_type": "markdown",
      "metadata": {
        "id": "uCG99BF0_DOB"
      },
      "source": [
        "##Grading\n",
        "\n",
        "Attendance, class participation with a webcam, responding when called upon to answer a question, and proof of laughing in class are all MANDATORY.   If you are absent for a good reason (coop interview, medical, military, etc.) send me an email (carlos.co@uc.edu).  5 or more unexcused absences will result in an unpredictable grade.\n",
        "\n",
        "In the real world, there are no 2 hour exams.  While there are deadlines, no boss will prevent you from working extra at night or weekends on a project.  Success as an engineer comes from persistent attention to detail, hard work, desire to learn, and communication skills.\n",
        "\n",
        "Grading in this course will try to reflect this reality as closely as possible.  There will be ~5 homework problems that require submission of Youtube videos where you present (without looking at notes) solution to problems and write Python code (live) to complete the calculations.<br>\n",
        "\n",
        "You will have ~1.5 weeks to complete each of these multipart videos submitted as YouTube playlists that would average between 30 to 60 minutes long.  Do note that because you are presenting on camera and not allowed to look at notes while you present and write the code, it will take MANY attempts to make a video worthy of submission.  Make your first recording attempt no later than the 3rd day after the HW is assigned.  It will be much harder than you think - do not procrastinate.\n",
        "\n",
        "If you use a pen device to explain/derive relationships and concepts, [this is an example](https://www.youtube.com/watch?v=DWne17epJ6Y&ab_channel=CharlieCo) of how your recording should be setup.  If you use regular pen/paper, do not be overly concerned with hiding the camera that is used to record the paper.  In this case, it might be preferable to use a whiteboard.\n",
        "\n",
        "When explaining/writing code, 3 simultaneous video streams are necessary.  One camera angle facing you, and another environmental camera angle from behind you that shows at least 2/3 of all monitors and the wall (if any) behind you.  [This is an example](https://www.youtube.com/watch?v=4J30jzc3DD8&ab_channel=CharlieCo)  of a possible setup.\n",
        "\n",
        "Irrespective of how exactly your videos are recorded, they provide irrefutable evidence that the work is not merely being copied and read aloud. Make short practice takes to make sure that you have locked focus/exposure and that handwriting, face, and screen are legible.\n",
        "\n",
        "Make sure to have a confirmed YouTube account so you can upload playlists with unlimited length videos."
      ]
    }
  ]
}