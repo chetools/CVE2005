{
  "nbformat": 4,
  "nbformat_minor": 0,
  "metadata": {
    "colab": {
      "provenance": [],
      "authorship_tag": "ABX9TyNhcEcTSUJZ+1uFKzlusjnU",
      "include_colab_link": true
    },
    "kernelspec": {
      "name": "python3",
      "display_name": "Python 3"
    },
    "language_info": {
      "name": "python"
    }
  },
  "cells": [
    {
      "cell_type": "markdown",
      "metadata": {
        "id": "view-in-github",
        "colab_type": "text"
      },
      "source": [
        "<a href=\"https://colab.research.google.com/github/chetools/CVE2005/blob/main/OpenBellSubmersible.ipynb\" target=\"_parent\"><img src=\"https://colab.research.google.com/assets/colab-badge.svg\" alt=\"Open In Colab\"/></a>"
      ]
    },
    {
      "cell_type": "code",
      "execution_count": 1,
      "metadata": {
        "id": "eL3dDWDCXaFY"
      },
      "outputs": [],
      "source": [
        "import numpy as np\n",
        "import scipy as sp"
      ]
    },
    {
      "cell_type": "code",
      "source": [
        "R1 = 1. #m\n",
        "thickness = 1e-2 #m\n",
        "R2 = R1 + thickness\n",
        "h = 5. #m\n",
        "V = np.pi*(R2**2 - R1**2)*h + np.pi*(R2**2)*thickness\n",
        "A = np.pi*R1**2\n",
        "\n",
        "rho_steel = 7.85e3 #kg/m3\n",
        "rho_water = 1e3 #kg/m3\n",
        "Mair = 29e-3 #kg/mol\n",
        "R = 8.314 #J/(mol K)\n",
        "T = 298. #K\n",
        "g = 9.81 #m/s2\n",
        "Pi = 101325. #Pa"
      ],
      "metadata": {
        "id": "CDts3PCOj-eD"
      },
      "execution_count": 18,
      "outputs": []
    },
    {
      "cell_type": "code",
      "source": [
        "def f(vec):\n",
        "    d, z = vec\n",
        "    P = rho_water * g*(d-z)\n",
        "    rho_air = P*Mair/(R*T)\n",
        "    eq1 = (rho_steel - rho_water )*V - rho_water*A*(h-z) + rho_air*A*(h-z)\n",
        "    eq2 = Pi*h - rho_water*g*(d-z)*(h-z)\n",
        "    return np.array([eq1, eq2])"
      ],
      "metadata": {
        "id": "wF8Fj_mAkhms"
      },
      "execution_count": 21,
      "outputs": []
    },
    {
      "cell_type": "code",
      "source": [
        "dzguess = np.array([100., 5.])\n",
        "sol=sp.optimize.root(f, dzguess)"
      ],
      "metadata": {
        "id": "bukJSe2dkh2a"
      },
      "execution_count": 31,
      "outputs": []
    },
    {
      "cell_type": "code",
      "source": [
        "sol"
      ],
      "metadata": {
        "colab": {
          "base_uri": "https://localhost:8080/"
        },
        "id": "F2oyIFa-lZV8",
        "outputId": "90a25fd5-aca0-4904-a48f-e0f7321aa346"
      },
      "execution_count": 32,
      "outputs": [
        {
          "output_type": "execute_result",
          "data": {
            "text/plain": [
              " message: The solution converged.\n",
              " success: True\n",
              "  status: 1\n",
              "     fun: [ 6.857e-13  1.746e-10]\n",
              "       x: [ 7.181e+01  4.236e+00]\n",
              "    nfev: 136\n",
              "    fjac: [[-3.677e-05  1.000e+00]\n",
              "           [-1.000e+00 -3.677e-05]]\n",
              "       r: [-7.497e+03  6.259e+05 -3.142e+03]\n",
              "     qtf: [ 1.746e-10 -6.921e-13]"
            ]
          },
          "metadata": {},
          "execution_count": 32
        }
      ]
    },
    {
      "cell_type": "code",
      "source": [
        "sol"
      ],
      "metadata": {
        "colab": {
          "base_uri": "https://localhost:8080/"
        },
        "id": "k2HyeEEytCtq",
        "outputId": "7b971455-6734-462e-c4d2-f0aa0653996f"
      },
      "execution_count": 26,
      "outputs": [
        {
          "output_type": "execute_result",
          "data": {
            "text/plain": [
              " message: The solution converged.\n",
              " success: True\n",
              "  status: 1\n",
              "     fun: [ 6.892e-13  1.164e-10]\n",
              "       x: [ 7.181e+01  4.236e+00]\n",
              "    nfev: 121\n",
              "    fjac: [[-3.677e-05  1.000e+00]\n",
              "           [-1.000e+00 -3.677e-05]]\n",
              "       r: [-7.497e+03  6.704e+05 -3.142e+03]\n",
              "     qtf: [ 1.164e-10 -6.935e-13]"
            ]
          },
          "metadata": {},
          "execution_count": 26
        }
      ]
    },
    {
      "cell_type": "code",
      "source": [
        "f(sol.x)"
      ],
      "metadata": {
        "colab": {
          "base_uri": "https://localhost:8080/"
        },
        "id": "LHcJ5LDstsoS",
        "outputId": "3a57cdcf-04ca-404b-8e2d-54c59e4240d1"
      },
      "execution_count": 27,
      "outputs": [
        {
          "output_type": "execute_result",
          "data": {
            "text/plain": [
              "array([6.89226454e-13, 1.16415322e-10])"
            ]
          },
          "metadata": {},
          "execution_count": 27
        }
      ]
    },
    {
      "cell_type": "code",
      "source": [],
      "metadata": {
        "id": "mIfbtGuXtw2a"
      },
      "execution_count": null,
      "outputs": []
    }
  ]
}